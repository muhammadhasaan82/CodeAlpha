{
 "cells": [
  {
   "cell_type": "markdown",
   "id": "72461eaa-572a-4348-b61d-344211f3c0da",
   "metadata": {},
   "source": [
    "# Load DataSet\n"
   ]
  },
  {
   "cell_type": "code",
   "execution_count": 1,
   "id": "49db44fe-a2f1-4a07-be14-83109e978684",
   "metadata": {},
   "outputs": [],
   "source": [
    "import pandas as pd\n",
    "import numpy as np"
   ]
  },
  {
   "cell_type": "code",
   "execution_count": 2,
   "id": "016cf80f-4ff0-406b-8f45-1fdd167992ec",
   "metadata": {},
   "outputs": [],
   "source": [
    "df = pd.read_csv('songdata.csv')\n"
   ]
  },
  {
   "cell_type": "code",
   "execution_count": 3,
   "id": "efac3492-49d5-40e7-b307-c0ec0ed824a8",
   "metadata": {},
   "outputs": [
    {
     "data": {
      "text/html": [
       "<div>\n",
       "<style scoped>\n",
       "    .dataframe tbody tr th:only-of-type {\n",
       "        vertical-align: middle;\n",
       "    }\n",
       "\n",
       "    .dataframe tbody tr th {\n",
       "        vertical-align: top;\n",
       "    }\n",
       "\n",
       "    .dataframe thead th {\n",
       "        text-align: right;\n",
       "    }\n",
       "</style>\n",
       "<table border=\"1\" class=\"dataframe\">\n",
       "  <thead>\n",
       "    <tr style=\"text-align: right;\">\n",
       "      <th></th>\n",
       "      <th>artist</th>\n",
       "      <th>song</th>\n",
       "      <th>link</th>\n",
       "      <th>text</th>\n",
       "    </tr>\n",
       "  </thead>\n",
       "  <tbody>\n",
       "    <tr>\n",
       "      <th>0</th>\n",
       "      <td>ABBA</td>\n",
       "      <td>Ahe's My Kind Of Girl</td>\n",
       "      <td>/a/abba/ahes+my+kind+of+girl_20598417.html</td>\n",
       "      <td>Look at her face, it's a wonderful face  \\nAnd...</td>\n",
       "    </tr>\n",
       "    <tr>\n",
       "      <th>1</th>\n",
       "      <td>ABBA</td>\n",
       "      <td>Andante, Andante</td>\n",
       "      <td>/a/abba/andante+andante_20002708.html</td>\n",
       "      <td>Take it easy with me, please  \\nTouch me gentl...</td>\n",
       "    </tr>\n",
       "    <tr>\n",
       "      <th>2</th>\n",
       "      <td>ABBA</td>\n",
       "      <td>As Good As New</td>\n",
       "      <td>/a/abba/as+good+as+new_20003033.html</td>\n",
       "      <td>I'll never know why I had to go  \\nWhy I had t...</td>\n",
       "    </tr>\n",
       "    <tr>\n",
       "      <th>3</th>\n",
       "      <td>ABBA</td>\n",
       "      <td>Bang</td>\n",
       "      <td>/a/abba/bang_20598415.html</td>\n",
       "      <td>Making somebody happy is a question of give an...</td>\n",
       "    </tr>\n",
       "    <tr>\n",
       "      <th>4</th>\n",
       "      <td>ABBA</td>\n",
       "      <td>Bang-A-Boomerang</td>\n",
       "      <td>/a/abba/bang+a+boomerang_20002668.html</td>\n",
       "      <td>Making somebody happy is a question of give an...</td>\n",
       "    </tr>\n",
       "  </tbody>\n",
       "</table>\n",
       "</div>"
      ],
      "text/plain": [
       "  artist                   song                                        link  \\\n",
       "0   ABBA  Ahe's My Kind Of Girl  /a/abba/ahes+my+kind+of+girl_20598417.html   \n",
       "1   ABBA       Andante, Andante       /a/abba/andante+andante_20002708.html   \n",
       "2   ABBA         As Good As New        /a/abba/as+good+as+new_20003033.html   \n",
       "3   ABBA                   Bang                  /a/abba/bang_20598415.html   \n",
       "4   ABBA       Bang-A-Boomerang      /a/abba/bang+a+boomerang_20002668.html   \n",
       "\n",
       "                                                text  \n",
       "0  Look at her face, it's a wonderful face  \\nAnd...  \n",
       "1  Take it easy with me, please  \\nTouch me gentl...  \n",
       "2  I'll never know why I had to go  \\nWhy I had t...  \n",
       "3  Making somebody happy is a question of give an...  \n",
       "4  Making somebody happy is a question of give an...  "
      ]
     },
     "execution_count": 3,
     "metadata": {},
     "output_type": "execute_result"
    }
   ],
   "source": [
    "df.head()"
   ]
  },
  {
   "cell_type": "code",
   "execution_count": 4,
   "id": "700ca008-445b-4f65-b5c5-0760e8b2afdd",
   "metadata": {},
   "outputs": [
    {
     "name": "stdout",
     "output_type": "stream",
     "text": [
      "<class 'pandas.core.frame.DataFrame'>\n",
      "RangeIndex: 57650 entries, 0 to 57649\n",
      "Data columns (total 4 columns):\n",
      " #   Column  Non-Null Count  Dtype \n",
      "---  ------  --------------  ----- \n",
      " 0   artist  57650 non-null  object\n",
      " 1   song    57650 non-null  object\n",
      " 2   link    57650 non-null  object\n",
      " 3   text    57650 non-null  object\n",
      "dtypes: object(4)\n",
      "memory usage: 1.8+ MB\n"
     ]
    }
   ],
   "source": [
    "df.info()"
   ]
  },
  {
   "cell_type": "code",
   "execution_count": 5,
   "id": "60680815-71e9-4a4a-b56e-7874339e32c0",
   "metadata": {},
   "outputs": [
    {
     "name": "stdout",
     "output_type": "stream",
     "text": [
      "(57650, 4)\n"
     ]
    }
   ],
   "source": [
    "print(df.shape)"
   ]
  },
  {
   "cell_type": "markdown",
   "id": "7217045d-3a3a-448a-b00b-3fba298b907b",
   "metadata": {},
   "source": [
    "# Data Cleaning"
   ]
  },
  {
   "cell_type": "code",
   "execution_count": 6,
   "id": "3936dd3a-411c-4f74-bd9c-41fe936b4223",
   "metadata": {},
   "outputs": [],
   "source": [
    "df = df.sample(n=5000).drop('link',axis=1).reset_index(drop=True)"
   ]
  },
  {
   "cell_type": "code",
   "execution_count": 7,
   "id": "aea5e64d-b72e-429d-a49c-abfc38154dcc",
   "metadata": {},
   "outputs": [
    {
     "data": {
      "text/plain": [
       "\"Ooo, ooo, ooo, ooo-ooo, ooo, ooo, ooo  \\n  \\nHey all you people, for goodness sake,  \\nLet's get together, what does it take,  \\nTo make you understand the value of a man?  \\nI'm talkin' about your son and neighbor, yes I am. oh ...  \\n  \\nChorus  \\nPeople let's stop the war.  \\nPeople let's stop the war.  \\nPeople let's stop the war.  \\nPeople let's stop the war.  \\n  \\nIf we had a president, that did just what he said,  \\nThe country would be just alright, and no one would be dead,  \\nFrom fighting in a war, that causes big men to get rich.  \\nThere's money in them war machines, now ain't this a bitch? oh ...  \\n  \\nChorus  \\n  \\nI been excited, ain't nobody ready.  \\nThey don't know what to get ready for.  \\nLet's get ready and stop the war.  \\n  \\nOoo ... excited, ain't nobody ready.  \\nThey don't know what to get ready for.  \\nLet's get ready and stop the war.  \\n  \\nI been excited, ain't nobody ready.  \\nThey don't know what to get ready for.  \\nLet's get ready and stop the war.  \\n  \\nOoo ... excited, ain't nobody ready.  \\nThey don't know what to get ready for.  \\nLet's get ready and stop the war.  \\n  \\nOoo, ooo, ooo, ooo-ooo, ooo, ooo, ooo  \\n  \\nChorus  \\n  \\nChorus  \\n\\n\""
      ]
     },
     "execution_count": 7,
     "metadata": {},
     "output_type": "execute_result"
    }
   ],
   "source": [
    "df['text'][0]"
   ]
  },
  {
   "cell_type": "code",
   "execution_count": 8,
   "id": "258354ea-3cd6-4de1-9942-d5fc9d712559",
   "metadata": {},
   "outputs": [],
   "source": [
    "df['text'] = df['text'].str.lower().replace(r'[^\\w\\s]','').replace(r'\\n',' ',regex=True)"
   ]
  },
  {
   "cell_type": "code",
   "execution_count": 9,
   "id": "c6746787-954d-4c20-bdfa-8cdb739abe45",
   "metadata": {},
   "outputs": [
    {
     "data": {
      "text/plain": [
       "\"ooo, ooo, ooo, ooo-ooo, ooo, ooo, ooo      hey all you people, for goodness sake,   let's get together, what does it take,   to make you understand the value of a man?   i'm talkin' about your son and neighbor, yes i am. oh ...      chorus   people let's stop the war.   people let's stop the war.   people let's stop the war.   people let's stop the war.      if we had a president, that did just what he said,   the country would be just alright, and no one would be dead,   from fighting in a war, that causes big men to get rich.   there's money in them war machines, now ain't this a bitch? oh ...      chorus      i been excited, ain't nobody ready.   they don't know what to get ready for.   let's get ready and stop the war.      ooo ... excited, ain't nobody ready.   they don't know what to get ready for.   let's get ready and stop the war.      i been excited, ain't nobody ready.   they don't know what to get ready for.   let's get ready and stop the war.      ooo ... excited, ain't nobody ready.   they don't know what to get ready for.   let's get ready and stop the war.      ooo, ooo, ooo, ooo-ooo, ooo, ooo, ooo      chorus      chorus    \""
      ]
     },
     "execution_count": 9,
     "metadata": {},
     "output_type": "execute_result"
    }
   ],
   "source": [
    "df['text'][0]"
   ]
  },
  {
   "cell_type": "markdown",
   "id": "b26b9e35-d4ef-41a0-9e2b-a8005f0c2d89",
   "metadata": {},
   "source": [
    "# Tokenization"
   ]
  },
  {
   "cell_type": "code",
   "execution_count": 10,
   "id": "771bf4bd-371c-408c-9611-5e360d8bcff3",
   "metadata": {},
   "outputs": [
    {
     "name": "stderr",
     "output_type": "stream",
     "text": [
      "[nltk_data] Downloading package punkt to\n",
      "[nltk_data]     C:\\Users\\Hasaan\\AppData\\Roaming\\nltk_data...\n",
      "[nltk_data]   Package punkt is already up-to-date!\n"
     ]
    },
    {
     "data": {
      "text/plain": [
       "True"
      ]
     },
     "execution_count": 10,
     "metadata": {},
     "output_type": "execute_result"
    }
   ],
   "source": [
    "import nltk\n",
    "nltk.download('punkt')\n"
   ]
  },
  {
   "cell_type": "code",
   "execution_count": 11,
   "id": "ddb8c518-c94c-4ae4-86c0-79328c6229b6",
   "metadata": {},
   "outputs": [],
   "source": [
    "from nltk.stem.porter import PorterStemmer\n",
    "from nltk.tokenize import word_tokenize"
   ]
  },
  {
   "cell_type": "code",
   "execution_count": 12,
   "id": "9ecb2002-c8bc-4e77-a939-3d4f1a5a59f6",
   "metadata": {},
   "outputs": [],
   "source": [
    "ps = PorterStemmer()\n",
    "\n",
    "stemming = []\n",
    "def tokenization(txt):\n",
    "    tokens = nltk.word_tokenize(txt)\n",
    "    stemming = [ps.stem(w) for w in tokens]\n",
    "\n",
    "    return \" \".join(stemming)"
   ]
  },
  {
   "cell_type": "code",
   "execution_count": 13,
   "id": "4b04b582-d536-475d-ae3d-eb9adff5835f",
   "metadata": {},
   "outputs": [
    {
     "data": {
      "text/plain": [
       "\"i know sometim you 're scare of the light\""
      ]
     },
     "execution_count": 13,
     "metadata": {},
     "output_type": "execute_result"
    }
   ],
   "source": [
    "tokenization(\"i know sometimes you're scared of the light\")"
   ]
  },
  {
   "cell_type": "code",
   "execution_count": 14,
   "id": "ba57f0d5-092f-4f96-8bd0-4f25bfe690ee",
   "metadata": {},
   "outputs": [],
   "source": [
    "df['text']=df['text'].apply(lambda x: tokenization(x))"
   ]
  },
  {
   "cell_type": "code",
   "execution_count": 15,
   "id": "8f2920bd-6155-4d96-9bf5-a88dff331f8b",
   "metadata": {},
   "outputs": [
    {
     "data": {
      "text/plain": [
       "0       ooo , ooo , ooo , ooo-ooo , ooo , ooo , ooo he...\n",
       "1       come on turn it up , mad stalk the night , fee...\n",
       "2       these social drug these social drug these soci...\n",
       "3       ( remix ) i love her 'caus she got her own she...\n",
       "4       one , two steal my heart and hold my tongu i f...\n",
       "                              ...                        \n",
       "4995    well , i 'm gon na be a wheel someday i 'm gon...\n",
       "4996    out of your dream and into hi arm you long to ...\n",
       "4997    one more sunday in savannah hear the whole cre...\n",
       "4998    bado , scoobado , scoobado-bado-bado . oh , wo...\n",
       "4999    i ca n't believ the thing i 've seen i wonder ...\n",
       "Name: text, Length: 5000, dtype: object"
      ]
     },
     "execution_count": 15,
     "metadata": {},
     "output_type": "execute_result"
    }
   ],
   "source": [
    "df['text']"
   ]
  },
  {
   "cell_type": "markdown",
   "id": "98d5083e-53cc-4590-b9b0-12e22dab9015",
   "metadata": {},
   "source": [
    "# TF-IDF Vectorization and Similarity Calculation"
   ]
  },
  {
   "cell_type": "code",
   "execution_count": 16,
   "id": "2f6dce63-9211-496d-8c11-ee59ef43c78b",
   "metadata": {},
   "outputs": [],
   "source": [
    "from sklearn.feature_extraction.text import TfidfVectorizer\n",
    "from sklearn.metrics.pairwise import cosine_similarity"
   ]
  },
  {
   "cell_type": "code",
   "execution_count": 17,
   "id": "496d3b1b-6b2a-4ae5-9923-1ce050e041e7",
   "metadata": {},
   "outputs": [],
   "source": [
    "tfid = TfidfVectorizer(stop_words = 'english')\n",
    "matrix = tfid.fit_transform(df['text'])"
   ]
  },
  {
   "cell_type": "code",
   "execution_count": 18,
   "id": "b137337a-b0f8-4bb8-8760-1f935228e297",
   "metadata": {},
   "outputs": [
    {
     "data": {
      "text/plain": [
       "(5000, 17334)"
      ]
     },
     "execution_count": 18,
     "metadata": {},
     "output_type": "execute_result"
    }
   ],
   "source": [
    "matrix.shape"
   ]
  },
  {
   "cell_type": "code",
   "execution_count": 19,
   "id": "1b439ded-6df2-4173-8f7b-ea574b68fc96",
   "metadata": {},
   "outputs": [],
   "source": [
    "similarity = cosine_similarity(matrix)"
   ]
  },
  {
   "cell_type": "code",
   "execution_count": 20,
   "id": "6429cd05-5eab-4beb-ac93-56837f8070fd",
   "metadata": {},
   "outputs": [
    {
     "data": {
      "text/plain": [
       "array([1.        , 0.        , 0.00650069, ..., 0.0028077 , 0.02904456,\n",
       "       0.0765012 ])"
      ]
     },
     "execution_count": 20,
     "metadata": {},
     "output_type": "execute_result"
    }
   ],
   "source": [
    "similarity[0]"
   ]
  },
  {
   "cell_type": "code",
   "execution_count": 21,
   "id": "c3920688-957d-4162-b452-629a03ee49bc",
   "metadata": {},
   "outputs": [
    {
     "data": {
      "text/plain": [
       "\"People, Let's Stop The War\""
      ]
     },
     "execution_count": 21,
     "metadata": {},
     "output_type": "execute_result"
    }
   ],
   "source": [
    "df['song'][0]"
   ]
  },
  {
   "cell_type": "code",
   "execution_count": 22,
   "id": "5bd99c97-a07b-4701-8f70-c85f90a59c8f",
   "metadata": {},
   "outputs": [
    {
     "data": {
      "text/html": [
       "<div>\n",
       "<style scoped>\n",
       "    .dataframe tbody tr th:only-of-type {\n",
       "        vertical-align: middle;\n",
       "    }\n",
       "\n",
       "    .dataframe tbody tr th {\n",
       "        vertical-align: top;\n",
       "    }\n",
       "\n",
       "    .dataframe thead th {\n",
       "        text-align: right;\n",
       "    }\n",
       "</style>\n",
       "<table border=\"1\" class=\"dataframe\">\n",
       "  <thead>\n",
       "    <tr style=\"text-align: right;\">\n",
       "      <th></th>\n",
       "      <th>artist</th>\n",
       "      <th>song</th>\n",
       "      <th>text</th>\n",
       "    </tr>\n",
       "  </thead>\n",
       "  <tbody>\n",
       "  </tbody>\n",
       "</table>\n",
       "</div>"
      ],
      "text/plain": [
       "Empty DataFrame\n",
       "Columns: [artist, song, text]\n",
       "Index: []"
      ]
     },
     "execution_count": 22,
     "metadata": {},
     "output_type": "execute_result"
    }
   ],
   "source": [
    "df[df['song'] == 'Brilliant Mistake']"
   ]
  },
  {
   "cell_type": "markdown",
   "id": "35f18e93-c015-4ef6-809d-85daf7d3608d",
   "metadata": {},
   "source": [
    "# Song Recommendation Function"
   ]
  },
  {
   "cell_type": "code",
   "execution_count": 23,
   "id": "dbf67ef4-8bbd-4f30-b55c-9f06d82428c4",
   "metadata": {},
   "outputs": [
    {
     "data": {
      "text/html": [
       "<div>\n",
       "<style scoped>\n",
       "    .dataframe tbody tr th:only-of-type {\n",
       "        vertical-align: middle;\n",
       "    }\n",
       "\n",
       "    .dataframe tbody tr th {\n",
       "        vertical-align: top;\n",
       "    }\n",
       "\n",
       "    .dataframe thead th {\n",
       "        text-align: right;\n",
       "    }\n",
       "</style>\n",
       "<table border=\"1\" class=\"dataframe\">\n",
       "  <thead>\n",
       "    <tr style=\"text-align: right;\">\n",
       "      <th></th>\n",
       "      <th>artist</th>\n",
       "      <th>song</th>\n",
       "      <th>text</th>\n",
       "    </tr>\n",
       "  </thead>\n",
       "  <tbody>\n",
       "    <tr>\n",
       "      <th>0</th>\n",
       "      <td>Grand Funk Railroad</td>\n",
       "      <td>People, Let's Stop The War</td>\n",
       "      <td>ooo , ooo , ooo , ooo-ooo , ooo , ooo , ooo he...</td>\n",
       "    </tr>\n",
       "    <tr>\n",
       "      <th>1</th>\n",
       "      <td>Venom</td>\n",
       "      <td>Blood Lust</td>\n",
       "      <td>come on turn it up , mad stalk the night , fee...</td>\n",
       "    </tr>\n",
       "    <tr>\n",
       "      <th>2</th>\n",
       "      <td>Lauryn Hill</td>\n",
       "      <td>Social Drugs</td>\n",
       "      <td>these social drug these social drug these soci...</td>\n",
       "    </tr>\n",
       "    <tr>\n",
       "      <th>3</th>\n",
       "      <td>Ne-Yo</td>\n",
       "      <td>She Got Her Own</td>\n",
       "      <td>( remix ) i love her 'caus she got her own she...</td>\n",
       "    </tr>\n",
       "    <tr>\n",
       "      <th>4</th>\n",
       "      <td>Coldplay</td>\n",
       "      <td>Kingdom Come</td>\n",
       "      <td>one , two steal my heart and hold my tongu i f...</td>\n",
       "    </tr>\n",
       "    <tr>\n",
       "      <th>...</th>\n",
       "      <td>...</td>\n",
       "      <td>...</td>\n",
       "      <td>...</td>\n",
       "    </tr>\n",
       "    <tr>\n",
       "      <th>295</th>\n",
       "      <td>Louis Armstrong</td>\n",
       "      <td>I Surrender Dear</td>\n",
       "      <td>pride , sad , splendid liar , sworn enemi of l...</td>\n",
       "    </tr>\n",
       "    <tr>\n",
       "      <th>296</th>\n",
       "      <td>Usher</td>\n",
       "      <td>Pop Ya Collar</td>\n",
       "      <td>hello everybodi , huh welcom today to the wond...</td>\n",
       "    </tr>\n",
       "    <tr>\n",
       "      <th>297</th>\n",
       "      <td>Stevie Wonder</td>\n",
       "      <td>As</td>\n",
       "      <td>as around the sun the earth know she 's revolv...</td>\n",
       "    </tr>\n",
       "    <tr>\n",
       "      <th>298</th>\n",
       "      <td>Bonnie Raitt</td>\n",
       "      <td>Your Good Thing (Is About To End)</td>\n",
       "      <td>i do n't have to beg you to hold me caus someb...</td>\n",
       "    </tr>\n",
       "    <tr>\n",
       "      <th>299</th>\n",
       "      <td>Lenny Kravitz</td>\n",
       "      <td>Buddha Of Suburbia</td>\n",
       "      <td>written by : david bowi live in lie by the rai...</td>\n",
       "    </tr>\n",
       "  </tbody>\n",
       "</table>\n",
       "<p>300 rows × 3 columns</p>\n",
       "</div>"
      ],
      "text/plain": [
       "                  artist                               song  \\\n",
       "0    Grand Funk Railroad         People, Let's Stop The War   \n",
       "1                  Venom                         Blood Lust   \n",
       "2            Lauryn Hill                       Social Drugs   \n",
       "3                  Ne-Yo                    She Got Her Own   \n",
       "4               Coldplay                       Kingdom Come   \n",
       "..                   ...                                ...   \n",
       "295      Louis Armstrong                   I Surrender Dear   \n",
       "296                Usher                      Pop Ya Collar   \n",
       "297        Stevie Wonder                                 As   \n",
       "298         Bonnie Raitt  Your Good Thing (Is About To End)   \n",
       "299        Lenny Kravitz                 Buddha Of Suburbia   \n",
       "\n",
       "                                                  text  \n",
       "0    ooo , ooo , ooo , ooo-ooo , ooo , ooo , ooo he...  \n",
       "1    come on turn it up , mad stalk the night , fee...  \n",
       "2    these social drug these social drug these soci...  \n",
       "3    ( remix ) i love her 'caus she got her own she...  \n",
       "4    one , two steal my heart and hold my tongu i f...  \n",
       "..                                                 ...  \n",
       "295  pride , sad , splendid liar , sworn enemi of l...  \n",
       "296  hello everybodi , huh welcom today to the wond...  \n",
       "297  as around the sun the earth know she 's revolv...  \n",
       "298  i do n't have to beg you to hold me caus someb...  \n",
       "299  written by : david bowi live in lie by the rai...  \n",
       "\n",
       "[300 rows x 3 columns]"
      ]
     },
     "execution_count": 23,
     "metadata": {},
     "output_type": "execute_result"
    }
   ],
   "source": [
    "df.head(300)"
   ]
  },
  {
   "cell_type": "code",
   "execution_count": 25,
   "id": "4e72504b-e355-45a4-88c1-f5669a8babaa",
   "metadata": {},
   "outputs": [
    {
     "name": "stdin",
     "output_type": "stream",
     "text": [
      "Enter a song:  Your Good Thing (Is About To End)\n"
     ]
    },
    {
     "name": "stdout",
     "output_type": "stream",
     "text": [
      "Recommended songs:\n",
      "Smiling Faces\n",
      "Breath Of The Black Muse\n",
      "Pollard\n",
      "But None Like You\n",
      "Meadows Of Heaven\n",
      "Hark The Herald Angels Sing\n",
      "Crescent Noon\n",
      "Forever Now\n",
      "Muze Kisee Se Pyaar Ho Gayaa\n",
      "Guardians Of The Breath\n",
      "Oriunde Ai Fi\n",
      "Oh Draw Me Lord\n",
      "Bird Of Pray\n",
      "Another Breakthrough\n",
      "Fernando (In Spanish)\n",
      "A Portrait Destroyed By Fire\n",
      "Baila Me\n",
      "Shake Your Head (Let's Go To Bed)\n",
      "Back On Earth\n"
     ]
    }
   ],
   "source": [
    "def recommendation(song):\n",
    "    # Check if the song exists in the DataFrame\n",
    "    if song in df['song'].values:\n",
    "        idx = df[df['song'] == song].index[0]\n",
    "        distances = sorted(list(enumerate(similarity[idx])), reverse=False, key=lambda x: x[1])\n",
    "        \n",
    "        songs = []\n",
    "        for i in distances[1:20]: \n",
    "            songs.append(df.iloc[i[0]]['song'])\n",
    "        \n",
    "        return songs\n",
    "    else:\n",
    "        return \"Song not found in the dataset.\"\n",
    "\n",
    "user_input = input(\"Enter a song: \")\n",
    "recommendations = recommendation(user_input)\n",
    "\n",
    "if isinstance(recommendations, list):\n",
    "    print(\"Recommended songs:\")\n",
    "    for song in recommendations:\n",
    "        print(song)\n",
    "else:\n",
    "    print(recommendations)"
   ]
  },
  {
   "cell_type": "code",
   "execution_count": null,
   "id": "21649515-14fb-4b73-84cf-94911e2b1a82",
   "metadata": {},
   "outputs": [],
   "source": []
  }
 ],
 "metadata": {
  "kernelspec": {
   "display_name": "Python 3 (ipykernel)",
   "language": "python",
   "name": "python3"
  },
  "language_info": {
   "codemirror_mode": {
    "name": "ipython",
    "version": 3
   },
   "file_extension": ".py",
   "mimetype": "text/x-python",
   "name": "python",
   "nbconvert_exporter": "python",
   "pygments_lexer": "ipython3",
   "version": "3.11.9"
  }
 },
 "nbformat": 4,
 "nbformat_minor": 5
}
